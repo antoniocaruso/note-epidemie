{
 "cells": [
  {
   "cell_type": "markdown",
   "metadata": {},
   "source": [
    "# Introduzione ai modelli matematici di diffusione epidemiologica\n",
    "### Paolo Caressa, PhD\n",
    "#### Ver. 1.0 marzo 2020\n",
    "\n",
    "## 1. Premessa\n",
    "\n",
    "Lo scopo di questi appunti è di fornire una rapida introduzione ai modelli deterministici della diffusione epidemica: si tratta delle nozioni più elementari, che presuppongono soltanto una conoscenza di base del calcolo differenziale, diciamo derivate in una variabile e opzionalmente integrali. Tuttavia spero che queste note diano una seppur fugace impressione dell'importanza dei metodi elementari dei sistemi dinamici, che veramente richiedono quattro derivate per essere espressi, e stimolino interesse scientifico nell'attuale congiuntura epidemica di cui tanto si (s)parla.\n",
    "\n",
    "**Disclaimer:** Questi miei appunti sono stati scritti frettolosamente e potrebbero contenere errori e inesattezze, che prego di segnalare o correggere \"forkando\" il repository [https://www.github.com/pcaressa/note-epidemie](https://www.github.com/pcaressa/note-epidemie) sui quali li metto liberamente a disposizione. I programmi di simulazione sono stati scritti (in Python) non in modo ottimale ma per essere copiaincollati e modificati a piacimento, quindi risulteranno ai programmatori ineleganti e artigianali. Naturalmente non usateli per nessuna applicazione reale!!!"
   ]
  },
  {
   "cell_type": "markdown",
   "metadata": {},
   "source": [
    "## 2. Il modello più semplice: nessuna cura...\n",
    "\n",
    "Consideriamo il diffondersi di un virus in una popolazione: quel che ci interessa è la diffusione dell'epidemia, e per farlo suddividiamo la popolazione in \"compartimenti\".\n",
    "\n",
    "Nel modello più semplice abbiamo due compartimenti:\n",
    "\n",
    "- $S$ (che sta per *Suscettibili*) cioè il gruppo di persone che non hanno la malattia ma possono contrarla.\n",
    "- $I$ (che sta per *Infetti*) cioè il gruppo di persone che hanno contratto la malattia.\n",
    "\n",
    "Quel che vogliamo capire è il passaggio $S\\to I$, che comporta capire quanti suscettibili divengono infetti, e a che velocità. In questo modello supponiamo quindi che un suscettibile possa divenire infetto e, una volta contagiato, permanga nel compartimento $I$.\n",
    "\n",
    "Supporremo che il numero totale di persone nella popolazione sia $N$ e rimanga costante, mentre ovviamente supponiamo che $S$ e $I$ varino nel tempo, dunque ad ogni istante $t$ abbiamo che $S(t)+I(t)=N$. Quel che vogliamo determinare è l'incremento $\\Delta I(t) = I(t+\\Delta t) - I(t)$ di persone che contraggono l'infezione fra l'istante $t$ e l'istante $t+\\Delta t$. L'ipotesi che facciamo è che questo incremento soddisfi la relazione di proporzionalità\n",
    "\n",
    "$$\n",
    "    \\Delta I(t) = \\beta \\frac{I(t)S(t)}{N}\\,\\Delta t\n",
    "$$\n",
    "\n",
    "dove $\\beta>0$ è una costante che denota di quanto crescono gli infetti nell'intervallo di tempo $\\Delta t$, precisamente è il *tasso di contatti* nella popolazione. Supponendo che le nostre variabili siano continue (anche se in realtà sono discrete in quanto rappresentano la numerosità di una popolazione), siamo quindi tentati di dedurne che\n",
    "\n",
    "$$\n",
    "    \\frac{\\Delta I(t)}{\\Delta t} = \\beta \\frac{I(t)S(t)}{N}\n",
    "$$\n",
    "\n",
    "e quindi, passando al limite per $\\Delta t\\to 0$, trovare la relazione differenziale\n",
    "\n",
    "$$\n",
    "    \\frac{dI}{dt} = \\beta \\frac{IS}{N}\n",
    "$$\n",
    "\n",
    "Stante l'ipotesi che $N$ sia costante nel tempo, da cui $S(t)=N-I(t)$, possiamo anche scrivere l'equazione per la dinamica di $S$:\n",
    "\n",
    "$$\n",
    "    \\frac{dS}{dt} = - \\frac{dI}{dt} = -\\frac\\beta N IS\n",
    "$$\n",
    "\n",
    "A ben vedere queste due equazioni sono equivalenti all'unica equazione\n",
    "\n",
    "$$\n",
    "    I'(t) = \\beta \\frac{I(N-I)}{N}\n",
    "$$\n",
    "\n",
    "(Spesso si scrive $I'(t)$ per indicare la derivata $\\frac{dI}{dt}$ di una funzione $I(t)$.)\n",
    "\n",
    "Notiamo immediatamente che questa equazione esprime il fatto che la derivata di $I(t)$ è positiva (poiché lo è la costante $\\beta$ e poiché lo sono gli altri termini che compaiono a secondo membro dell'equazione differenziale), e quindi ci aspettiamo che gli infettati crescano di continuo, fino a saturare l'intera popolazione, e svuotare il compartimento $S$ (a quel punto $I(N-I)=0$ e quindi avremmo da un certo istante in poi $I'=0$, cioè $I=N$ in modo costante).\n",
    "\n",
    "Verifichiamo analiticamente e numericamente questa triste deduzione.\n"
   ]
  },
  {
   "cell_type": "markdown",
   "metadata": {},
   "source": [
    "### Integrazione esatta del modello **SI**\n",
    "\n",
    "Poiché la soluzione di questa equazione differenziale si può scrivere in modo esatto, facciamolo (non capita quasi mai!): questa parte è puramente matematica ma comunque esorto tutti a provare a leggerla in quanto ci consentirà di guardare \"in faccia\" la soluzione del nostro modello, cioè la funzione $I(t)$ che indica l'andamento degli infettati.\n",
    "\n",
    "L'equazione che abbiamo ricavato, $I'=\\beta I(N-I)/N$, ha la caratteristica che le variabili che vi figurano sono separabili, per cui possiamo portare tutti termini che contengono la $I$ da una parte lasciando quelli che contengono la $t$ dall'altra, integrando poi ambo i membri come (scrivo $I_0=I(t_0)$ e $I_1=I(t_1)$)\n",
    "\n",
    "$$\n",
    "    \\int_{I_0}^{I_1} \\frac{N}{I(N-I)}dI = \\beta \\int_{t_0}^{t_1} dt = \\beta(t_1 - t_0)\n",
    "$$\n",
    "\n",
    "L'integrazione del primo membro di questa equazione è facile (uso la sostituzione $J=N-I$ da cui $dJ=-dI$):\n",
    "\n",
    "\\begin{align*}\n",
    "    \\int_{I_0}^{I_1} \\frac{N}{I(N-I)}dI\n",
    "        &= \\int_{I_0}^{I_1} \\frac{dI}{I} + \\int_{I_0}^{I_1} \\frac{dI}{N-I}\n",
    "            = \\int_{I_0}^{I_1} \\frac{dI}{I} - \\int_{N-I_0}^{N-I_1} \\frac{dJ}{J}   \\\\\n",
    "        &= \\log\\frac{I_1}{I_0} - \\log\\frac{N-I_1}{N-I_0}\n",
    "            = \\log\\frac{I_1(N-I_0)}{I_0(N-I_1)}\n",
    "\\end{align*}\n",
    "\n",
    "Pertanto abbiamo\n",
    "\n",
    "$$\n",
    "    e^{\\beta(t_1-t_0)} = \\frac{I_1(N-I_0)}{I_0(N-I_1)}\n",
    "$$\n",
    "\n",
    "da cui segue $I_0(N-I_1)e^{\\beta(t_1-t_0)} = I_1(N-I_0)$, quindi $I_0Ne^{\\beta(t_1-t_0)}=I_1(N-I_0+I_0e^{\\beta(t_1-t_0)})$, il che ci consente di scrivere esplicitamente $I_1$:\n",
    "\n",
    "$$\n",
    "    I_1 = \\frac{I_0Ne^{\\beta(t_1-t_0)}}{N-I_0+I_0e^{\\beta(t_1-t_0)}}\n",
    "        = \\frac{I_0N}{S_0e^{-\\beta(t_1-t_0)}+I_0}\n",
    "$$\n",
    "\n",
    "rammentando che $S=I-N$.\n",
    "\n",
    "Abbiamo quindi trovato una espressione esplicita per l'andamento degli infetti per ogni $t$,\n",
    "\n",
    "$$\n",
    "    I(t) = \\frac{I_0N}{(N-I_0)e^{-\\beta(t-t_0)}+I_0}\n",
    "$$\n",
    "\n",
    "che dipende da una serie di costanti: $I_0$ è il valore iniziale di $I$ mentre $\\beta$ è una costante che dipende dalla malattia.\n",
    "\n",
    "Proviamo a graficare questa funzione per alcuni valori di $\\beta$, supponendo che la condizione iniziale, su una popolazione di $N=1000$ sia di $I_0=10$ infetti. Ecco un programmino Python che svolge questo compito."
   ]
  },
  {
   "cell_type": "code",
   "execution_count": 56,
   "metadata": {},
   "outputs": [
    {
     "data": {
      "image/png": "[encoded data removed]",
      "text/plain": [
       "<Figure size 432x288 with 4 Axes>"
      ]
     },
     "metadata": {},
     "output_type": "display_data"
    }
   ],
   "source": [
    "# Importiamo un po' di librerie che useremo qui e in seguito\n",
    "import matplotlib\n",
    "import matplotlib.pyplot as plt\n",
    "import numpy as np\n",
    "\n",
    "# Dati del modello\n",
    "N = 1000\n",
    "t0 = 0\n",
    "t1 = 10\n",
    "t = np.linspace(t0, t1, 100)   # questo genera 100 valori fra t0 e t1\n",
    "\n",
    "# Condizione iniziale = numero di infetti all'istante iniziale\n",
    "I0 = 10\n",
    "\n",
    "def grafico(handle, beta):\n",
    "    y = [I0*N/((N-I0)*np.exp(-beta*(tt-t0))+I0) for tt in t]\n",
    "    handle.plot(t, y, 'b', label=r'$\\beta$=' + str(beta))\n",
    "    handle.grid()\n",
    "    handle.legend(loc='best')\n",
    "\n",
    "# Imposta le aree per i 4 grafici e chiama la funzione che li disegna\n",
    "# con vari valori dei parametri\n",
    "fig, axes = plt.subplots(2, 2, sharex='all', sharey='all')\n",
    "\n",
    "grafico(axes[0,0], beta = 0.5)\n",
    "grafico(axes[0,1], beta = 1)\n",
    "grafico(axes[1,0], beta = 2)\n",
    "grafico(axes[1,1], beta = 10)\n"
   ]
  },
  {
   "cell_type": "markdown",
   "metadata": {},
   "source": [
    "Come si vede, in ogni caso il numero degli infetti tende a crescere fino a saturare tutta la popolazione: il parametro $\\beta$ agisce come un tasso di crescita, nel senso che maggiore è il suo valore e più in fretta la popolazione degli infetti tende a saturare l'intera popolazione.\n",
    "\n",
    "Potete divertirvi a variare la condizione iniziale e $\\beta$, ma alla fine il risultato sarà sempre quello."
   ]
  },
  {
   "cell_type": "markdown",
   "metadata": {},
   "source": [
    "### Integrazione numerica del modello **SI**\n",
    "\n",
    "Il calcolo che abbiamo fatto nell'integrazione esatta è semplice e divertente: purtroppo so che qualcuno potrebbe opinare su questi giudizi, e anche in vista di esempi più complicati, mi sento quindi obbligato a fornire anche una integrazione dell'equazione differenziale con metodi numerici, cioè non basandoci sulle nostre magie algebriche simboliche ma lasciando fare al computer quello per cui è fatto, cioè i conti approssimati della soluzione del modello.\n",
    "\n",
    "Si tratta di usare il solutore di equazioni differenziali ordinarie di Python e dargli in pasto direttamente la funzione che figura a secondo membro nell'equazione differenziale: ricordiamo che il modello **SI** è\n",
    "\n",
    "$$\n",
    "    I'(t) = \\beta \\frac{I(N-I)}{N}\n",
    "$$\n",
    "\n",
    "Quindi è del tipo $y' = f(t,y)$ (nel nostro caso $y=I$). Ecco un programmino che usa questo metodo, il quale non ci fornisce esplicitamente la funzione $I$ che cerchiamo, ma ce la calcola nei punti desiderati, che in fondo è tutto quel che ci serve.\n"
   ]
  },
  {
   "cell_type": "code",
   "execution_count": 57,
   "metadata": {},
   "outputs": [
    {
     "data": {
      "image/png": "[encoded data removed]",
      "text/plain": [
       "<Figure size 432x288 with 4 Axes>"
      ]
     },
     "metadata": {},
     "output_type": "display_data"
    }
   ],
   "source": [
    "# Importiamo un po' di librerie che useremo qui e in seguito\n",
    "import matplotlib.pyplot as plt\n",
    "import numpy as np\n",
    "from scipy.integrate import odeint\n",
    "\n",
    "N = 1000\n",
    "t0 = 0\n",
    "t1 = 10\n",
    "t = np.linspace(t0, t1, 100)\n",
    "\n",
    "# Condizione iniziale = numero di infetti all'istante iniziale\n",
    "I0 = 10\n",
    "\n",
    "def f(y,t, beta, N):\n",
    "    return beta * y *(N - y)/N\n",
    "\n",
    "def grafico(handle, beta):\n",
    "    y = odeint(f, I0, t, args=(beta,N))    # risolve l'equazione differenziale\n",
    "    handle.plot(t, y, 'b', label=r'$\\beta$=' + str(beta))\n",
    "    handle.grid()\n",
    "    handle.legend(loc='best')\n",
    "\n",
    "# Imposta le aree per i 4 grafici e chiama la funzione che li disegna\n",
    "# con vari valori dei parametri\n",
    "fig, axes = plt.subplots(2, 2, sharex='all', sharey='all')\n",
    "grafico(axes[0,0], beta = 0.5)\n",
    "grafico(axes[0,1], beta = 1)\n",
    "grafico(axes[1,0], beta = 2)\n",
    "grafico(axes[1,1], beta = 10)\n"
   ]
  },
  {
   "cell_type": "markdown",
   "metadata": {},
   "source": [
    "Non è sorprendente che sia venuto lo stesso risultato precedente: l'integrazione numerica non è esatta ma nella pratica del calcolo scientifico fornisce gli stessi risultati di quella esatta (nella rappresentazione dei numeri all'interno dei computer non c'è nulla di realmente esatto...)."
   ]
  },
  {
   "cell_type": "markdown",
   "metadata": {},
   "source": [
    "## Il modello **SIS**\n",
    "\n",
    "I risultati del modello **SI** non sembrano molto incoraggianti, ma è chiaro che il modello è troppo semplificato rispetto alle epidemie reali, dato che la dinamica del modello prevede solo la possibilità di passare dal compartimento $S$ al compartimento $I$.\n",
    "\n",
    "Nella realtà i malati possono anche guarire (per fortuna!), col che tornerebbero nel compartimento $S$: dunque un modello un pochino più sofisticato è dato dallo schema\n",
    "\n",
    "$$\n",
    "    S \\to I \\to S\n",
    "$$\n",
    "\n",
    "Questo passo ulteriore ignora alcune caratteristiche delle malattie infettive, cioè che ci si può immunizzare da esse o anche morire di esse, vedremo nella prossima sezione come includere anche queste caratteristiche nei nostri modelli, per ora continuiamo a fare un passo per volta.\n",
    "\n",
    "Naturalmente in questo modello **SIS** le equazioni si complicano, per tenere conto anche della transizione $I\\to S$, da infetto a suscettibile: in particolare, se nel modello **SI** l'equazione che descrive il tasso con cui cresce il comparimento degli infetti è\n",
    "\n",
    "$$\n",
    "    I'(t) = \\beta \\frac{I(N-I)}{N}\n",
    "$$\n",
    "\n",
    "nel modello **SIS** questo tasso di crescita viene frenato da una certa quota di infetti che tornano suscettibili, secondo un tasso di decrescita proporzionale a $I$ mercé un nuovo parametro $\\gamma$:\n",
    "\n",
    "$$\n",
    "    I'(t) = \\beta \\frac{I(N-I)}{N} - \\gamma I\n",
    "$$\n",
    "\n",
    "Questo parametro $\\gamma$ si interpreta immaginando che $1/\\gamma$ sia il tempo medio di durata dell'infezione in un individuo.\n",
    "\n",
    "Dal punto di vista del compartimento dei suscettibili, l'equazione precedente diviene\n",
    "\n",
    "$$\n",
    "    S'(t) = -\\beta\\frac{S(N-S)}{N} +\\gamma(N-S)\n",
    "$$\n",
    "\n",
    "E infatti ci torna: stiamo infatti dicendo che, ad ogni istante $t$, $S$ si decrementa per la percentuale di soggetti che passano dal compartimento $S$ al compartimento $I$, ma si incrementa per la percentuale dei soggetti che da $I$ tornano in $S$, e lo fanno con un tasso di incremento dato da $\\gamma$.\n",
    "\n",
    "Notiamo inoltre che, sommando queste equazioni, troviamo $I'+S' = 0$, cioè che $I+S$ è costante, cosa che supponevamo nel modello **SI**.\n",
    "\n",
    "L'equazione per la dinamica della $I$ è ancora a variabili separabili e se qualcuno vuole divertirsi a dedurla come abbiamo fatto in precedenza gli dò il suggerimento di distinguere il caso $\\beta=\\gamma$ dal caso $\\beta\\neq\\gamma$, poiché danno luogo ad equazioni diverse.\n",
    "\n",
    "Qui cedo alla pigrizia e faccio fare il conto al computer: nei seguenti programmini Python mostro le curve relative alla soluzione $I(t)$ del modello **SIS** per diversi valori e combinazioni di $\\beta$ e $\\gamma$, pensando sempre a una popolazione di $N=1000$ persone con un numero iniziale di infetti $I_0=100$ (naturalmente cambiando i dati del programma si possono sperimentare le curve per altri valori, il motivo principale per cui queste note sono redatte in un foglio Jupyter è proprio dare a chi le legge la possibilità di giocare con i modelli).\n",
    "\n",
    "Nei grafici indichiamo i valori del rapporto\n",
    "\n",
    "$$\n",
    "    \\sigma = \\frac{\\beta}{\\gamma}\n",
    "$$\n"
   ]
  },
  {
   "cell_type": "code",
   "execution_count": 58,
   "metadata": {},
   "outputs": [
    {
     "data": {
      "image/png": "[encoded data removed]",
      "text/plain": [
       "<Figure size 432x288 with 4 Axes>"
      ]
     },
     "metadata": {},
     "output_type": "display_data"
    }
   ],
   "source": [
    "# Importiamo un po' di librerie che useremo qui e in seguito\n",
    "import matplotlib.pyplot as plt\n",
    "import numpy as np\n",
    "from scipy.integrate import odeint\n",
    "\n",
    "N = 1000\n",
    "t0 = 0\n",
    "t1 = 10\n",
    "t = np.linspace(t0, t1, 100)\n",
    "\n",
    "# Condizione iniziale = numero di infetti all'istante iniziale\n",
    "I0 = 100\n",
    "\n",
    "def f(y,t, beta, gamma, N):\n",
    "    return beta * y *(N - y)/N - gamma * y\n",
    "\n",
    "def grafico(handle, beta, gamma):\n",
    "    y = odeint(f, I0, t, args=(beta,gamma,N))\n",
    "    handle.plot(t, y[:,0], 'b', label=\"I(t)\")\n",
    "    handle.grid()\n",
    "    handle.set_title(r'$\\sigma$=' + str(beta/gamma))\n",
    "    handle.legend(loc='best')\n",
    "\n",
    "fig, axes = plt.subplots(2, 2, sharex='all', sharey='all')\n",
    "grafico(axes[0,0], beta = 1, gamma = 0.1)\n",
    "grafico(axes[0,1], beta = 1, gamma = 0.5)\n",
    "grafico(axes[1,0], beta = 1, gamma = 1)\n",
    "grafico(axes[1,1], beta = 1, gamma = 2)\n"
   ]
  },
  {
   "cell_type": "markdown",
   "metadata": {},
   "source": [
    "Come si vede il numero degli infetti non tende necessariamente al numero totale della popolazione: in particolare, se $\\sigma\\leq 1$ il numero degli infetti decresce sempre di più, e in un tempo sufficientemente lungo si azzera.\n",
    "\n",
    "Invece, se $\\sigma>1$ il numero degli infetti cresce con un andamento simile a quello del modello SIS ma con l'importante differenza di non tendere a saturare tutta la popolazione, ma di assestarsi su un numero massimo di infetti che è percentualmente dato da $I_E = (\\sigma-1)/\\sigma$, e che si chiama *equilibrio endemico*: una volta raggiunto l'equilibrio endemico, il compartimento degli infetti si stabilizza e l'epidemia diviene una *endemia*, durevole nel tempo.\n",
    "\n",
    "Per esempio, se $\\sigma=2$ allora l'equilibrio endemico è raggiunto per un numero di infetti pari a $N\\times I_E=N/2$. E infatti si vede dal grafico corrispondente che la curva raggiunge questo punto.\n",
    "\n",
    "Per avere una idea della *asintoticità* di questo valore limite, ripetiamo il calcolo allungando smisuratamente i tempi:"
   ]
  },
  {
   "cell_type": "code",
   "execution_count": 59,
   "metadata": {},
   "outputs": [
    {
     "data": {
      "image/png": "[encoded data removed]",
      "text/plain": [
       "<Figure size 432x288 with 1 Axes>"
      ]
     },
     "metadata": {},
     "output_type": "display_data"
    }
   ],
   "source": [
    "t0 = 0\n",
    "t1 = 100\n",
    "t = np.linspace(t0, t1, 1000)\n",
    "fig, axes = plt.subplots(1, 1)\n",
    "grafico(axes, beta = 1, gamma = 0.5)"
   ]
  },
  {
   "cell_type": "markdown",
   "metadata": {},
   "source": [
    "Vediamo bene come l'equilibrio endemico costituisca una soglia che non è possibile superare. Per questo motivo la proprietà che stabilisce il comportamento asintotico del modello sulla base della soglia si suole chiamare **teorema della soglia critica**; nel caso del modello **SIS** è quello che abbiamo enunciato più sopra discutendo i casi $\\sigma\\leq1$ e $\\sigma>1$."
   ]
  },
  {
   "cell_type": "markdown",
   "metadata": {},
   "source": [
    "PS: possiamo facilmente modificare il programmino per mostrare una animazione al variare di $\\beta$: il risultato viene salvato in una gif animata..."
   ]
  },
  {
   "cell_type": "code",
   "execution_count": 60,
   "metadata": {},
   "outputs": [
    {
     "data": {
      "text/plain": [
       "<matplotlib.animation.FuncAnimation at 0x7f1a090fb390>"
      ]
     },
     "execution_count": 60,
     "metadata": {},
     "output_type": "execute_result"
    },
    {
     "data": {
      "image/png": "[encoded data removed]",
      "text/plain": [
       "<Figure size 432x288 with 1 Axes>"
      ]
     },
     "metadata": {},
     "output_type": "display_data"
    }
   ],
   "source": [
    "# Importiamo un po' di librerie che useremo qui e in seguito\n",
    "import matplotlib.pyplot as plt\n",
    "from matplotlib.animation import FuncAnimation\n",
    "#plt.style.use('seaborn-pastel')\n",
    "import numpy as np\n",
    "from scipy.integrate import odeint\n",
    "\n",
    "N = 1000\n",
    "t0 = 0\n",
    "t1 = 10\n",
    "t = np.linspace(t0, t1, 100)\n",
    "\n",
    "# Condizione iniziale = numero di infetti all'istante iniziale\n",
    "I0 = 100\n",
    "\n",
    "def f(y,t, beta, gamma, N):\n",
    "    return beta * y *(N - y)/N - gamma * y\n",
    "\n",
    "fig = plt.figure()\n",
    "ax = plt.axes(xlim=(t0, t1), ylim=(0, N))\n",
    "line, = ax.plot([], [], lw=3)\n",
    "\n",
    "def init():\n",
    "    line.set_data([], [])\n",
    "    return line,\n",
    "\n",
    "def animate(i):\n",
    "    global beta\n",
    "    y = odeint(f, I0, t, args=(beta,gamma,N))\n",
    "    line.set_data(t, y)\n",
    "    beta += 0.1\n",
    "    return line,\n",
    "\n",
    "beta = 0.1\n",
    "gamma = 5\n",
    "anim = FuncAnimation(fig, animate, init_func=init, frames=100, interval=1, blit=True)\n",
    "anim.save('SIS.gif', writer='imagemagick')\n",
    "anim\n"
   ]
  },
  {
   "cell_type": "markdown",
   "metadata": {},
   "source": [
    "## Il modello **SIR**\n",
    "\n",
    "Il modello **SIS** ha un che di ragionevole, ma anche di rassegnatamente drammatico: l'epidemia diviene una *endemia* (cioè il suo radicamento temporale si fa paragonabile alla vita degli individui: i modelli per le endemie utilizzano solitamente anche dei parametri che tengono conto di nascite e morti nella popolazione durante il tempo di diffusione della malattia).\n",
    "\n",
    "Tuttavia è ragionevole supporre che il numero degli infetti diminuisca non solo perché alcuni di loro tornano nei suscettibili, ma anche per altri motivi: in generale questo accade per tutte le epidemie. Gli infetti possono guarire e sviluppare una immunità, dunque non essere più suscettibili di contrarre la malattia, o morire, o essere isolati.\n",
    "\n",
    "Viene quindi spontaneo modificare il nostro modello introducendo un nuovo compartimento, $R$ (che sta per *rimossi*) e contiene gli infetti che non sono più tali ma nemmeno più suscettibili. Lo schema di questo modello **SIR** contempla che si possa passare nel compartimento $R$ solo se si proviene dal compartimento $I$:\n",
    "\n",
    "$$\n",
    "    S \\to I \\to R\n",
    "$$\n",
    "\n",
    "(Questa tipologia di modelli fu proposta da Kermack e McKendrick in una serie di classici lavori fra il 1927 e il 1933.)\n",
    "\n",
    "In sostanza si tratta di aggiungere una equazione per la dinamica del passaggio $I\\to R$, il che conduce ad ampliare le equazioni del modello **SI** come segue:\n",
    "\n",
    "$$\n",
    "\\begin{cases}\n",
    "\\displaystyle\n",
    "    S' = -\\beta\\frac{IS}{N}   \\\\\n",
    "\\displaystyle\n",
    "    I' = \\beta \\frac{IS}{N} -\\gamma I  \\\\\n",
    "\\displaystyle\n",
    "    R' = \\gamma I\n",
    "\\end{cases}\n",
    "$$\n",
    "\n",
    "Infatti stiamo dicendo che la quota $\\gamma I$ che viene sottratta dal compartimento $I$ a ogni $\\Delta t$ passa nel compartimento $R$, che quindi si incrementa di $\\gamma I\\Delta t$.\n",
    "\n",
    "Notiamo che stavolta $N=S+I+R$ e che, sommando le tre equazioni differenziali, troviamo $S'+I'+R'=0$, dunque di nuovo $N$ costante. In particolare possiamo sempre determinare $R(t)$ una volta che siano note $S(t)$ e $I(t)$, quindi possiamo limitarci a studiare le prime due equazioni per avere la dinamica dei tre compartimenti.\n",
    "\n",
    "Quel che viene fuori è che anche in questo caso quel che governa è la costante $\\sigma = \\beta/\\gamma$, e che il teorema della soglia critica per il modello **SIR** afferma quanto segue.\n",
    "\n",
    "- Se $\\sigma\\leq1$ allora $I(t)$ decresce indefinitamente.\n",
    "- Se $\\sigma>1$ e $S_0 \\leq N/\\sigma$ allora $I(t)$ decresce indefinitamente.\n",
    "- Se $\\sigma>1$ e $S_0 > N/\\sigma$ allora $I$ cresce fino a un certo istante $T$ e poi decresce indefinitamente.\n",
    "\n",
    "Come si vede è interessante l'ultima: c'è un tempo $T$ corrispondente al **picco dell'epidemia**, il punto di massimo della funzione $I(t)$...\n",
    "\n",
    "Una spiegazione intuitiva è la seguente: il massimo di una funzione si ha in corrispondenza di dove si annulla la sua derivata, e dato che la derivata di $I(t)$ è il secondo membro dell'equazione differenziale $I'(t)=\\beta SI/N -\\gamma I$, troviamo che il punto di massimo di $I$ si ha per l'istante $T$ tale che $S(T) = N\\gamma/\\beta = N/\\sigma$.\n",
    "\n",
    "Ora, se $\\sigma\\leq 1$ $I(t)$ decresce sicuramente, altrimenti cresce: ma se $S_0\\leq N/\\sigma$, dato che inizialmente $S$ decresce (in quanto cresce $I$), $I$ non potrà assumere il suo massimo, e quindi decrescerà indefinitamente. Se invece all'istante $t_0$ si ha che $S_0>N/\\sigma$, al crescere di $I(t)$ si avrà un decrescere di $S(t)$ che, supponendola continua, prima o poi dovrà toccare il valore soglia di $N/\\sigma$ e quindi far giungere $I(t)$ al suo massimo: da lì in poi, $I(t)$ non può che decrescere.\n",
    "\n",
    "Una illustrazione di questo risultato è data dal seguente programmino, che risolve il sistema di equazioni differenziali in $S$ e $I$, e deduce i valori di $R$ come $N-S-I$.\n"
   ]
  },
  {
   "cell_type": "code",
   "execution_count": 61,
   "metadata": {},
   "outputs": [
    {
     "data": {
      "image/png": "[encoded data removed]",
      "text/plain": [
       "<Figure size 432x288 with 4 Axes>"
      ]
     },
     "metadata": {},
     "output_type": "display_data"
    }
   ],
   "source": [
    "# Importiamo un po' di librerie che useremo qui e in seguito\n",
    "import matplotlib.pyplot as plt\n",
    "import numpy as np\n",
    "from scipy.integrate import odeint\n",
    "\n",
    "N = 1000\n",
    "t0 = 0\n",
    "t1 = 10\n",
    "t = np.linspace(t0, t1, 100)\n",
    "\n",
    "# Condizione iniziale = numero di infetti all'istante iniziale\n",
    "S0 = 900\n",
    "I0 = 100\n",
    "\n",
    "def f(y,t, beta, gamma, N):\n",
    "    return [-beta * y[0] *y[1]/N, beta * y[0] *y[1]/N - gamma * y[1]] \n",
    "\n",
    "def grafico(handle, beta, gamma):\n",
    "    y = odeint(f, [S0,I0], t, args=(beta,gamma,N))\n",
    "    handle.plot(t, y[:,1], 'b', label=\"I(t)\")\n",
    "    handle.plot(t, N - y[:,0] - y[:,1], 'r', label=\"R(t)\")\n",
    "    handle.grid()\n",
    "    handle.legend(loc='best')\n",
    "    handle.set_title(r'$\\sigma$=' + str(beta/gamma))\n",
    "\n",
    "fig, axes = plt.subplots(2, 2, sharex='all', sharey='all')\n",
    "grafico(axes[0,0], beta = 1, gamma = 0.1)\n",
    "grafico(axes[0,1], beta = 1, gamma = 0.5)\n",
    "grafico(axes[1,0], beta = 1, gamma = 2)\n",
    "grafico(axes[1,1], beta = 1, gamma = 10)\n"
   ]
  },
  {
   "cell_type": "markdown",
   "metadata": {},
   "source": [
    "Si vede chiaramente nei grafici più in alto che se $\\sigma>1$ la funzione $I(t)$ cresce fino a un certo tempo $T$ e poi decresce. Facendo un conto non troppo complicato, si trova che\n",
    "\n",
    "$$\n",
    "    I(T) = I_0 - \\frac{N}{\\sigma}\\left(1+\\log\\frac{\\sigma S_0}{N}\\right)\n",
    "$$\n",
    "\n",
    "(Si supponga che $I=F(S(t))$ per una certa funzione $F$: derivando questa definizione e usando le due equazioni differenziali come definizioni di $S'(t)$ e $I'(t)$, si giunge all'equazione precedente, tenendo conto che $S(T)=N/\\sigma$.)\n",
    "\n",
    "Ultima osservazione: la $\\sigma$ nel modello **SIR** corrisponde al famoso coefficiente $R_0$ di cui ogni tanto si leggono stime e al quale si attribuisce molta importanza, giustificata dal teorema della soglia critica."
   ]
  },
  {
   "cell_type": "markdown",
   "metadata": {},
   "source": [
    "## Ulteriori modelli",
    "\n",
    "Il modello **SIR** sembra più realistico dei precedenti in quanto contempla la possibilità che dalla malattia si guarisca, si muoia o ci si immunizzi. E non propone invariabilmente uno scenario apocalittico di endemia.\n",
    "\n",
    "Prima di applicare questo modello a dei calcoli concreti, vale la pena di aggiungere che fin qui abbiamo scalfito la punta dell'iceberg: infatti esistono due modi di generalizzare questo modello.\n",
    "\n",
    "1. Aggiungere ulteriori compartimenti, come per esempio gli *esposti*, cioè chi ha contratto la malattia ma non è ancora contagioso, se non dopo un periodo di latenza. Quindi il modello diviene $S\\to E\\to I\\to R$. Un altro compartimento si ha introducendo il compartimento $M$ dei neonati che hanno una immunità temporanea, che può durare qualche mese, indotta dagli anticorpi della madre: in questo caso il modello diviene $M\\to S\\to E\\to I\\to R$. Naturalmente a ogni compartimento si aggiunge una equazione differenziale e un parametro, quindi le cose tendono a farsi \"multidimensionali\" e complicate, tant'é che non credo sia noto nessun teorema di soglia critica per il modello **MSEIR**.\n",
    "\n",
    "2. Estendere il modello epidemico a un modello endemico che tenga conto di nascite e morti durante l'evoluzione del contagio: in questo caso non si aggiungono altre equazioni ma altri parametri. Per esempio **MSEIR** è inerentemente endemico, considerando anche i neonati.\n",
    "\n",
    "Per chi fosse interessato ad approfondire queste tematiche alla fine di questa nota ho inserito alcuni suggerimenti bibliografici.\n"
   ]
  },
  {
   "cell_type": "markdown",
   "metadata": {},
   "source": [
    "## Facciamo lavorare i modelli\n",
    "\n",
    "Per quelli come me che trovano piacere estetico nella manipolazione di formule e nella deduzione dei teoremi, quanto ho scritto in queste note basta per solleticare qualche neurone. Ma, specie a fronte dell'attuale emergenza da Covid 19, non posso chiudere questi appunti senza tentare una simulazione usando dati reali.\n",
    "\n",
    "Tengo a sottolineare come questo sia un semplice esercizio per mostrare l'uso di un modello, non una proposta di predizione. Userò il modello **SIR**, il che vuol dire che dobbiamo prendere i dati di una epidemia e in particolare, per ciascun istante, il totale dei suscettibili, degli infetti e dei rimossi.\n",
    "\n",
    "E ora vengono i problemi: qualcuno ha efficacemente detto che *viviamo in una stitichezza di informazioni ma sommersi da una diarrea di dati*. Girando in rete si trovano moltissimi dati su questa influenza, e tanti grafici basati su modelli con le quattro operazioni (numero di morti nell'unità di tempo, rapporto fra eposti e infetti, etc.). Ma ho fatto fatica a trovare i dati utili per il modello."
   ]
  },
  {
   "cell_type": "markdown",
   "metadata": {},
   "source": [
    "### Un dataset e come utilizzarlo\n",
    "\n",
    "Ai miei fini servono compartimenti misurati, quindi userò come popolazione totale quella dei sottoposti a un controllo di presenza del virus (anche se questo dato è drogato dal fatto che normalmente si considerano i sintomatici per fare i controlli). Gli infetti sono quelli risultati positivi. I rimossi sono sia i morti sia chi è guarito, supponendo (cosa non completamente vera a quanto pare) che un rimosso non possa tornare suscettibile.\n",
    "\n",
    "Nei dataset normalmente si elencano per paese i casi positivi, senza indicare rispetto a che campione della popolazione, un dato ai nostri fini inutile.\n",
    "\n",
    "Comunque su GitHub ci sono alcuni repository con dati che fanno al caso nostro: in particolare ne ho trovato uno della Protezione Civile Italiana, che consiglio a tutti quelli che vogliano attingere ai dati sul Covid19 in Italia, e precisamente al repository [https://github.com/pcm-dpc/COVID-19](https://github.com/pcm-dpc/COVID-19) gestito da Umberto Rosini. In particolare troviamo una serie storica in formato JSON, che ho copiaincollato alla data in cui sto scrivendo queste righe nello script qui di seguito, che la memorizza in una variabile DATA:"
   ]
  },
  {
   "cell_type": "code",
   "execution_count": 62,
   "metadata": {},
   "outputs": [],
   "source": [
    "DATA = [\n",
    "    {\n",
    "        \"data\": \"2020-02-24 18:00:00\",\n",
    "        \"stato\": \"ITA\",\n",
    "        \"ricoverati_con_sintomi\": 101,\n",
    "        \"terapia_intensiva\": 26,\n",
    "        \"totale_ospedalizzati\": 127,\n",
    "        \"isolamento_domiciliare\": 94,\n",
    "        \"totale_attualmente_positivi\": 221,\n",
    "        \"nuovi_attualmente_positivi\": 221,\n",
    "        \"dimessi_guariti\": 1,\n",
    "        \"deceduti\": 7,\n",
    "        \"totale_casi\": 229,\n",
    "        \"tamponi\": 4324\n",
    "    },\n",
    "    {\n",
    "        \"data\": \"2020-02-25 18:00:00\",\n",
    "        \"stato\": \"ITA\",\n",
    "        \"ricoverati_con_sintomi\": 114,\n",
    "        \"terapia_intensiva\": 35,\n",
    "        \"totale_ospedalizzati\": 150,\n",
    "        \"isolamento_domiciliare\": 162,\n",
    "        \"totale_attualmente_positivi\": 311,\n",
    "        \"nuovi_attualmente_positivi\": 90,\n",
    "        \"dimessi_guariti\": 1,\n",
    "        \"deceduti\": 10,\n",
    "        \"totale_casi\": 322,\n",
    "        \"tamponi\": 8623\n",
    "    },\n",
    "    {\n",
    "        \"data\": \"2020-02-26 18:00:00\",\n",
    "        \"stato\": \"ITA\",\n",
    "        \"ricoverati_con_sintomi\": 128,\n",
    "        \"terapia_intensiva\": 36,\n",
    "        \"totale_ospedalizzati\": 164,\n",
    "        \"isolamento_domiciliare\": 221,\n",
    "        \"totale_attualmente_positivi\": 385,\n",
    "        \"nuovi_attualmente_positivi\": 74,\n",
    "        \"dimessi_guariti\": 3,\n",
    "        \"deceduti\": 12,\n",
    "        \"totale_casi\": 400,\n",
    "        \"tamponi\": 9587\n",
    "    },\n",
    "    {\n",
    "        \"data\": \"2020-02-27 18:00:00\",\n",
    "        \"stato\": \"ITA\",\n",
    "        \"ricoverati_con_sintomi\": 248,\n",
    "        \"terapia_intensiva\": 56,\n",
    "        \"totale_ospedalizzati\": 304,\n",
    "        \"isolamento_domiciliare\": 284,\n",
    "        \"totale_attualmente_positivi\": 588,\n",
    "        \"nuovi_attualmente_positivi\": 203,\n",
    "        \"dimessi_guariti\": 45,\n",
    "        \"deceduti\": 17,\n",
    "        \"totale_casi\": 650,\n",
    "        \"tamponi\": 12014\n",
    "    },\n",
    "    {\n",
    "        \"data\": \"2020-02-28 18:00:00\",\n",
    "        \"stato\": \"ITA\",\n",
    "        \"ricoverati_con_sintomi\": 345,\n",
    "        \"terapia_intensiva\": 64,\n",
    "        \"totale_ospedalizzati\": 409,\n",
    "        \"isolamento_domiciliare\": 412,\n",
    "        \"totale_attualmente_positivi\": 821,\n",
    "        \"nuovi_attualmente_positivi\": 233,\n",
    "        \"dimessi_guariti\": 46,\n",
    "        \"deceduti\": 21,\n",
    "        \"totale_casi\": 888,\n",
    "        \"tamponi\": 15695\n",
    "    },\n",
    "    {\n",
    "        \"data\": \"2020-02-29 18:00:00\",\n",
    "        \"stato\": \"ITA\",\n",
    "        \"ricoverati_con_sintomi\": 401,\n",
    "        \"terapia_intensiva\": 105,\n",
    "        \"totale_ospedalizzati\": 506,\n",
    "        \"isolamento_domiciliare\": 543,\n",
    "        \"totale_attualmente_positivi\": 1049,\n",
    "        \"nuovi_attualmente_positivi\": 228,\n",
    "        \"dimessi_guariti\": 50,\n",
    "        \"deceduti\": 29,\n",
    "        \"totale_casi\": 1128,\n",
    "        \"tamponi\": 18661\n",
    "    },\n",
    "    {\n",
    "        \"data\": \"2020-03-01 18:00:00\",\n",
    "        \"stato\": \"ITA\",\n",
    "        \"ricoverati_con_sintomi\": 639,\n",
    "        \"terapia_intensiva\": 140,\n",
    "        \"totale_ospedalizzati\": 779,\n",
    "        \"isolamento_domiciliare\": 798,\n",
    "        \"totale_attualmente_positivi\": 1577,\n",
    "        \"nuovi_attualmente_positivi\": 528,\n",
    "        \"dimessi_guariti\": 83,\n",
    "        \"deceduti\": 34,\n",
    "        \"totale_casi\": 1694,\n",
    "        \"tamponi\": 21127\n",
    "    },\n",
    "    {\n",
    "        \"data\": \"2020-03-02 18:00:00\",\n",
    "        \"stato\": \"ITA\",\n",
    "        \"ricoverati_con_sintomi\": 742,\n",
    "        \"terapia_intensiva\": 166,\n",
    "        \"totale_ospedalizzati\": 908,\n",
    "        \"isolamento_domiciliare\": 927,\n",
    "        \"totale_attualmente_positivi\": 1835,\n",
    "        \"nuovi_attualmente_positivi\": 258,\n",
    "        \"dimessi_guariti\": 149,\n",
    "        \"deceduti\": 52,\n",
    "        \"totale_casi\": 2036,\n",
    "        \"tamponi\": 23345\n",
    "    },\n",
    "    {\n",
    "        \"data\": \"2020-03-03 18:00:00\",\n",
    "        \"stato\": \"ITA\",\n",
    "        \"ricoverati_con_sintomi\": 1034,\n",
    "        \"terapia_intensiva\": 229,\n",
    "        \"totale_ospedalizzati\": 1263,\n",
    "        \"isolamento_domiciliare\": 1000,\n",
    "        \"totale_attualmente_positivi\": 2263,\n",
    "        \"nuovi_attualmente_positivi\": 428,\n",
    "        \"dimessi_guariti\": 160,\n",
    "        \"deceduti\": 79,\n",
    "        \"totale_casi\": 2502,\n",
    "        \"tamponi\": 25856\n",
    "    },\n",
    "    {\n",
    "        \"data\": \"2020-03-04 18:00:00\",\n",
    "        \"stato\": \"ITA\",\n",
    "        \"ricoverati_con_sintomi\": 1346,\n",
    "        \"terapia_intensiva\": 295,\n",
    "        \"totale_ospedalizzati\": 1641,\n",
    "        \"isolamento_domiciliare\": 1065,\n",
    "        \"totale_attualmente_positivi\": 2706,\n",
    "        \"nuovi_attualmente_positivi\": 443,\n",
    "        \"dimessi_guariti\": 276,\n",
    "        \"deceduti\": 107,\n",
    "        \"totale_casi\": 3089,\n",
    "        \"tamponi\": 29837\n",
    "    },\n",
    "    {\n",
    "        \"data\": \"2020-03-05 18:00:00\",\n",
    "        \"stato\": \"ITA\",\n",
    "        \"ricoverati_con_sintomi\": 1790,\n",
    "        \"terapia_intensiva\": 351,\n",
    "        \"totale_ospedalizzati\": 2141,\n",
    "        \"isolamento_domiciliare\": 1155,\n",
    "        \"totale_attualmente_positivi\": 3296,\n",
    "        \"nuovi_attualmente_positivi\": 590,\n",
    "        \"dimessi_guariti\": 414,\n",
    "        \"deceduti\": 148,\n",
    "        \"totale_casi\": 3858,\n",
    "        \"tamponi\": 32362\n",
    "    },\n",
    "    {\n",
    "        \"data\": \"2020-03-06 18:00:00\",\n",
    "        \"stato\": \"ITA\",\n",
    "        \"ricoverati_con_sintomi\": 2394,\n",
    "        \"terapia_intensiva\": 462,\n",
    "        \"totale_ospedalizzati\": 2856,\n",
    "        \"isolamento_domiciliare\": 1060,\n",
    "        \"totale_attualmente_positivi\": 3916,\n",
    "        \"nuovi_attualmente_positivi\": 620,\n",
    "        \"dimessi_guariti\": 523,\n",
    "        \"deceduti\": 197,\n",
    "        \"totale_casi\": 4636,\n",
    "        \"tamponi\": 36359\n",
    "    },\n",
    "    {\n",
    "        \"data\": \"2020-03-07 18:00:00\",\n",
    "        \"stato\": \"ITA\",\n",
    "        \"ricoverati_con_sintomi\": 2651,\n",
    "        \"terapia_intensiva\": 567,\n",
    "        \"totale_ospedalizzati\": 3218,\n",
    "        \"isolamento_domiciliare\": 1843,\n",
    "        \"totale_attualmente_positivi\": 5061,\n",
    "        \"nuovi_attualmente_positivi\": 1145,\n",
    "        \"dimessi_guariti\": 589,\n",
    "        \"deceduti\": 233,\n",
    "        \"totale_casi\": 5883,\n",
    "        \"tamponi\": 42062\n",
    "    },\n",
    "     {\n",
    "        \"data\": \"2020-03-08 18:00:00\",\n",
    "        \"stato\": \"ITA\",\n",
    "        \"ricoverati_con_sintomi\": 3557,\n",
    "        \"terapia_intensiva\": 650,\n",
    "        \"totale_ospedalizzati\": 4207,\n",
    "        \"isolamento_domiciliare\": 2180,\n",
    "        \"totale_attualmente_positivi\": 6387,\n",
    "        \"nuovi_attualmente_positivi\": 1326,\n",
    "        \"dimessi_guariti\": 622,\n",
    "        \"deceduti\": 366,\n",
    "        \"totale_casi\": 7375,\n",
    "        \"tamponi\": 49937\n",
    "    },\n",
    "    {\n",
    "        \"data\": \"2020-03-09 18:00:00\",\n",
    "        \"stato\": \"ITA\",\n",
    "        \"ricoverati_con_sintomi\": 4316,\n",
    "        \"terapia_intensiva\": 733,\n",
    "        \"totale_ospedalizzati\": 5049,\n",
    "        \"isolamento_domiciliare\": 2936,\n",
    "        \"totale_attualmente_positivi\": 7985,\n",
    "        \"nuovi_attualmente_positivi\": 1598,\n",
    "        \"dimessi_guariti\": 724,\n",
    "        \"deceduti\": 463,\n",
    "        \"totale_casi\": 9172,\n",
    "        \"tamponi\": 53826\n",
    "    }\n",
    "]"
   ]
  },
  {
   "cell_type": "markdown",
   "metadata": {},
   "source": [
    "Ai miei fini i dati che mi interessano sono i valori di $I$ e $R$, che posso estrarre come\n",
    "\n",
    "1. $I(t)$ è dato dal valore del campo \"totale_attualmente positivi\";\n",
    "2. $R(t)$ è dato dalla somma dei valori dei campi \"dimessi_guariti\" e \"deceduti\"\n",
    "3. $N$ è dato dal valore del campo \"tamponi\".\n",
    "\n",
    "Rispetto ai nostri modelli notiamo come il valore $N$ sia tutto meno che costante: un modo di ovviare a questo inconveniente è prendere il valore più recente (e quindi più alto) e usarlo come $N$ anche per tutti gli istanti precedenti.\n",
    "\n",
    "Ma in realtà vorremmo svincolarci da questo $N$, e per farlo possiamo modificare il nostro modello per trattare valori relativi e non assoluti."
   ]
  },
  {
   "cell_type": "markdown",
   "metadata": {},
   "source": [
    "## Una estensione del modello **SIR**\n",
    "\n",
    "Le nostre equazioni differenziali, vale la pena ricordarle ancora una volta, sono\n",
    "\n",
    "$$\n",
    "\\begin{cases}\n",
    "\\displaystyle\n",
    "    S' = -\\beta\\frac{IS}{N}   \\\\\n",
    "\\displaystyle\n",
    "    I' = \\beta \\frac{IS}{N} -\\gamma I  \\\\\n",
    "\\displaystyle\n",
    "    R' = \\gamma I\n",
    "\\end{cases}\n",
    "$$\n",
    "\n",
    "Tuttavia nella nostra serie storica, notiamo come il valore $N$ della popolazione totale (che sto assumendo essere il numero di persone sottoposte a tampone) non sia costante: dobbiamo quindi trasformare $N$ in una variabile, e l'ipotesi più comune (sulla cui giustificazione non mi soffermerò qui) è che segua una legge esponenziale:\n",
    "\n",
    "$$\n",
    "    \\frac{dN}{dt} = \\alpha N\n",
    "$$\n",
    "\n",
    "dove $\\alpha$ è il tasso di crescita della popolazione. Attenzione: *nel nostro caso il tasso di crescita della popolazione non è dovuto alla differenza fra nuove nascite e nuovi decessi nell'unità di tempo, ma nell'aumento della popolazione per cui è stato fatto il test di infezione del vaccino (il famoso tampone)*.\n",
    "\n",
    "Una volta resa $N$ una variabile, dobbiamo estendere il modello per tenere conto della crescita della popolazione: per farlo modifichiamo le equazioni come segue\n",
    "\n",
    "$$\n",
    "\\begin{cases}\n",
    "\\displaystyle\n",
    "    S' = -\\beta\\frac{IS}{N} + \\alpha N   \\\\\n",
    "\\displaystyle\n",
    "    I' = \\beta \\frac{IS}{N} -\\gamma I \\\\\n",
    "\\displaystyle\n",
    "    R' = \\gamma I\n",
    "\\end{cases}\n",
    "$$\n",
    "\n",
    "Infatti i nuovi \"censiti\" nella nostra popolazione confluiscono a priori nel compartimento dei suscettibili, non degli infetti o dei rimossi. Aggiungendo l'equazione differenziale per l'incremento della popolazione troviamo il sistema\n",
    "\n",
    "$$\n",
    "\\begin{cases}\n",
    "\\displaystyle\n",
    "    S' = -\\beta\\frac{IS}{N} + \\alpha N   \\\\\n",
    "\\displaystyle\n",
    "    I' = \\beta \\frac{IS}{N} -\\gamma I \\\\\n",
    "\\displaystyle\n",
    "    R' = \\gamma I   \\\\\n",
    "\\displaystyle\n",
    "    N' = \\alpha N\n",
    "\\end{cases}\n",
    "$$\n",
    "\n",
    "Effettivamente ora $S'+I'+R'=N'$ come ci aspettiamo. Se $\\alpha=0$ ritroviamo il modello precedente.\n"
   ]
  },
  {
   "cell_type": "markdown",
   "metadata": {},
   "source": [
    "### Calibrare il modello\n",
    "\n",
    "Torniamo al nostro dataset: abbiamo un insieme di 13 misurazioni che ci consentono di ottenere, per 13 giorni consecutivi, i valori $I$, $R$ e $N$, da cui otteniamo $S$ per differenza. Quel che ci preme è chiaramente determinare $I$ e $R$, quindi concentrarci sulla seconda e terza equazione.\n",
    "\n",
    "Naturalmente, prima di applicarlo a una situazione reale, dobbiamo trovare dei valori specifici per i parametri $\\alpha, \\beta, \\gamma$ dai quali dipende il modello stesso, e i cui valori abbiamo visto incidere in modo decisivo sulla forma delle soluzioni.\n",
    "\n",
    "Cominciamo da $\\alpha$: in questo caso ci avvaliamo delle misurazioni per $N(t)$, con $t=0,1,2,...$ a rappresentare ciascun numero un singolo giorno, precisamente"
   ]
  },
  {
   "cell_type": "code",
   "execution_count": 63,
   "metadata": {},
   "outputs": [
    {
     "data": {
      "text/plain": [
       "[4324,\n",
       " 8623,\n",
       " 9587,\n",
       " 12014,\n",
       " 15695,\n",
       " 18661,\n",
       " 21127,\n",
       " 23345,\n",
       " 25856,\n",
       " 29837,\n",
       " 32362,\n",
       " 36359,\n",
       " 42062,\n",
       " 49937,\n",
       " 53826]"
      ]
     },
     "execution_count": 63,
     "metadata": {},
     "output_type": "execute_result"
    }
   ],
   "source": [
    "serie_N = [misura[\"tamponi\"] for misura in DATA]\n",
    "serie_N"
   ]
  },
  {
   "cell_type": "markdown",
   "metadata": {},
   "source": [
    "Poiché ci aspettiamo che questi siano i valori di $N(0), N(1), ...$ possiamo determinare l'$\\alpha$ che renda la soluzione dell'equazione $N'=\\alpha N$ nei punti dati il più vicina possibile ai valori dati dalla serie storica.\n",
    "\n",
    "Questa operazione di il parametro di una equazione differenziale che renda la soluzione più coerente con un insieme di valori dati si chiama *stima parametrica*, e rientra nella smisurata tematica dei metodi di ottimizzazione: non aggiungerò altro a questo se non che la libreria SciPy di Python ce ne mette a disposizione quanti ne vogliamo.\n",
    "\n",
    "Per non complicare troppo le cose (e lasciare il piacere di implementare i minimi quadrati a chi legge) userò il seguente criterio: consideriamo $\\alpha$ una variabile e calcoliamo con un metodo numerico il minimo rispetto a questa variabile della funzione ottenuta prendendo la norma (cioè la radice delle somme dei quadrati delle differenze) fra i vettori dati dai punti della serie storica e dai valori desunti risolvendo l'equazione differenziale per $\\alpha$. Questa funzione dipende da $\\alpha$, e minimizzandola rispetto a questa variabile troviamo il valore di $\\alpha$ per cui commettiamo (in media quadratica) l'errore minimo nell'usare il modello invece che i dati reali.\n",
    "\n",
    "Come si vede dal seguente programmino, che usa la funzione fmin che minimizza una funzione data senza stare troppo a chiedersi come sia fatta, è più facile farlo che dirlo."
   ]
  },
  {
   "cell_type": "code",
   "execution_count": 64,
   "metadata": {},
   "outputs": [
    {
     "name": "stdout",
     "output_type": "stream",
     "text": [
      "Optimization terminated successfully.\n",
      "         Current function value: 19879.522731\n",
      "         Iterations: 27\n",
      "         Function evaluations: 54\n",
      "alpha ottimale = 0.17640113830566406\n"
     ]
    },
    {
     "data": {
      "text/plain": [
       "<matplotlib.legend.Legend at 0x7f1a08fb4390>"
      ]
     },
     "execution_count": 64,
     "metadata": {},
     "output_type": "execute_result"
    },
    {
     "data": {
      "image/png": "[encoded data removed]",
      "text/plain": [
       "<Figure size 432x288 with 1 Axes>"
      ]
     },
     "metadata": {},
     "output_type": "display_data"
    }
   ],
   "source": [
    "import matplotlib.pyplot as plt\n",
    "import numpy as np\n",
    "from scipy.integrate import odeint\n",
    "from scipy.optimize import fmin\n",
    "\n",
    "serie_N = np.array([misura[\"tamponi\"] for misura in DATA])\n",
    "N0 = serie_N[0]\n",
    "\n",
    "t0 = 0\n",
    "t1 = len(serie_N)\n",
    "intervallo = np.linspace(t0, t1, len(serie_N))\n",
    "\n",
    "def f(y, t, alpha):\n",
    "    return alpha*y[0]\n",
    "\n",
    "def modello(alpha):\n",
    "    y = odeint(f, N0, intervallo, args=(alpha,))\n",
    "    return np.linalg.norm(y[:,0] - serie_N)\n",
    "\n",
    "# Trova il valore ottimale di alpha\n",
    "alpha_ottimale = fmin(modello, 2.5)\n",
    "\n",
    "print(\"alpha ottimale =\", alpha_ottimale[0])\n",
    "\n",
    "# Ora disegna la soluzione per l'alpha ottimale\n",
    "y = odeint(f, N0, intervallo, args=(alpha_ottimale,))\n",
    "plt.plot(intervallo, serie_N, 'ro', label=\"Dati reali\")\n",
    "plt.plot(intervallo, y[:,0], label=\"Modello\")\n",
    "plt.legend()"
   ]
  },
  {
   "cell_type": "markdown",
   "metadata": {},
   "source": [
    "Sembra quindi che il tasso di crescita nell'effettuare i tamponi possa assumersi come $\\alpha=0.176$ circa. Poiché la soluzione dell'equazione $N'=\\alpha N$ è\n",
    "\n",
    "$$\n",
    "    N = N_0e^{\\alpha (t-t_0)} = 4324 e^{0.176 t}\n",
    "$$\n",
    "\n",
    "le rimanenti equazioni dipendono solo da $S$ e $I$: in effetti dobbiamo stimare contemporaneamente i parametri $\\beta$ e $\\gamma$ usando le due equazioni per $S'$ e $I'$ simultaneamente, che è quel che facciamo nel prossimo programmino."
   ]
  },
  {
   "cell_type": "code",
   "execution_count": 65,
   "metadata": {},
   "outputs": [
    {
     "name": "stdout",
     "output_type": "stream",
     "text": [
      "Optimization terminated successfully.\n",
      "         Current function value: 18959.258164\n",
      "         Iterations: 45\n",
      "         Function evaluations: 85\n",
      "beta ottimale = 0.2959047847985544\n",
      "gamma ottimale = 0.019509870096134887\n"
     ]
    },
    {
     "data": {
      "text/plain": [
       "<matplotlib.legend.Legend at 0x7f1a08eaeef0>"
      ]
     },
     "execution_count": 65,
     "metadata": {},
     "output_type": "execute_result"
    },
    {
     "data": {
      "image/png": "[encoded data removed]",
      "text/plain": [
       "<Figure size 432x288 with 1 Axes>"
      ]
     },
     "metadata": {},
     "output_type": "display_data"
    }
   ],
   "source": [
    "import matplotlib.pyplot as plt\n",
    "import numpy as np\n",
    "from scipy.integrate import odeint\n",
    "from scipy.optimize import fmin\n",
    "\n",
    "serie_I = np.array([misura[\"totale_attualmente_positivi\"] for misura in DATA])\n",
    "I0 = serie_I[0]\n",
    "\n",
    "serie_R = np.array([misura[\"dimessi_guariti\"] + misura[\"deceduti\"] for misura in DATA])\n",
    "R0 = serie_R[0]\n",
    "\n",
    "serie_N = np.array([misura[\"tamponi\"] for misura in DATA])\n",
    "N0 = serie_N[0]\n",
    "\n",
    "serie_S = serie_N - serie_I - serie_R\n",
    "S0 = serie_S[0]\n",
    "\n",
    "serie_SIR = np.array([[serie_S[i], serie_I[i], serie_R[i]] for i in range(len(DATA))])\n",
    "SIR0 = serie_SIR[0]\n",
    "\n",
    "t0 = 0\n",
    "t1 = len(serie_N)\n",
    "intervallo = np.linspace(t0, t1, len(serie_N))\n",
    "\n",
    "def fun_N(t):\n",
    "    return N0 * np.exp(alpha_ottimale*(t-t0))\n",
    "\n",
    "def fun_SIR(y, t, beta, gamma):\n",
    "    # y = [S(t), I(t), R(t)]\n",
    "    return [-beta*y[0]*y[1]/fun_N(t)+alpha_ottimale*fun_N(t),\n",
    "            beta*y[0]*y[1]/fun_N(t)-gamma*y[1],\n",
    "            gamma*y[1] ]\n",
    "\n",
    "def modello(betagamma):\n",
    "    # Risolve il sistema di equazioni $S'=..., I'=..., R'=...$\n",
    "    y = odeint(fun_SIR, SIR0, intervallo, args=(betagamma[0],betagamma[1]))\n",
    "    return np.linalg.norm(y - serie_SIR)\n",
    "\n",
    "# Trova il valore ottimale di beta e gamma\n",
    "valori_ottimali = fmin(modello, (1, 1))\n",
    "\n",
    "print(\"beta ottimale =\", valori_ottimali[0])\n",
    "print(\"gamma ottimale =\", valori_ottimali[1])\n",
    "\n",
    "# Ora disegna la soluzione per l'alpha ottimale\n",
    "y = odeint(fun_SIR, SIR0, intervallo, args=(valori_ottimali[0],valori_ottimali[1]))\n",
    "plt.plot(intervallo, serie_I, 'ro', label=\"Dati reali per I\")\n",
    "plt.plot(intervallo, y[:,1], label=\"Modello per I\")\n",
    "plt.legend()"
   ]
  },
  {
   "cell_type": "markdown",
   "metadata": {},
   "source": [
    "Come si vede il modello è ora calibrato abbastanza bene sui dati reali: questo non garantisce sulla sua predittività, anche perché $N$ varia non come una popolazione ma come un test somministrato a una popolazione.\n",
    "\n",
    "Per curiosità tracciamo comunque le curve $S$, $I$ e $R$ su un intervallo temporale di 30 giorni."
   ]
  },
  {
   "cell_type": "code",
   "execution_count": 66,
   "metadata": {},
   "outputs": [
    {
     "data": {
      "text/plain": [
       "<matplotlib.legend.Legend at 0x7f1a08e56208>"
      ]
     },
     "execution_count": 66,
     "metadata": {},
     "output_type": "execute_result"
    },
    {
     "data": {
      "image/png": "[encoded data removed]",
      "text/plain": [
       "<Figure size 432x288 with 1 Axes>"
      ]
     },
     "metadata": {},
     "output_type": "display_data"
    }
   ],
   "source": [
    "intervallo = np.linspace(t0, t0 + 30)\n",
    "y = odeint(fun_SIR, SIR0, intervallo, args=(valori_ottimali[0],valori_ottimali[1]))\n",
    "plt.plot(intervallo, y[:,0], \"g\", label=\"Modello per S\")\n",
    "plt.plot(intervallo, y[:,1], \"b\", label=\"Modello per I\")\n",
    "plt.plot(intervallo, y[:,2], \"r\", label=\"Modello per R\")\n",
    "plt.legend()"
   ]
  },
  {
   "cell_type": "markdown",
   "metadata": {},
   "source": [
    "Come si vede, il modello prevede una impennata di infezioni che crescono indefinitamente, questo perché cresce esponenzialmente la popolazione, il che ovviamenteha senso solo nel breve periodo: un ulteriore modo di affinare il modello sarebbe sostituire $N$ con una funzione che si comporta inizialmente come l'esponenziale ma poi tende asintoticamente a un certo valore.\n"
   ]
  },
  {
   "cell_type": "markdown",
   "metadata": {},
   "source": [
    "### Relativizzare il modello\n",
    "\n",
    "I principali grattacapi del nostro modello sono stati dovuti alla difficoltà di stimare $N$, la numerosità della popolazione. Possiamo provare a relativizzare le variabili del nostro modello, normalizzandole rispetto a $N$ e trasformandone, in un certo senso, in percentuali, semplicemente ponendo\n",
    "\n",
    "$$\n",
    "    s = \\frac SN, \\quad i = \\frac IN, \\quad r = \\frac RN\n",
    "$$\n",
    "\n",
    "Prendiamo per esempio l'equazione per $S'$ del modello **SIR**, $S'=-\\beta IS/N$: ricordando la regola di derivazione del quoziente e supponendo che $N'=0$, abbiamo che\n",
    "\n",
    "$$\n",
    "    s' = \\left(\\frac SN\\right)' = \\frac{S'N-SN'}{N^2}\n",
    "        = \\frac {S'}{N}\n",
    "        = -\\beta is\n",
    "$$\n",
    "\n",
    "Analogamente troviamo che\n",
    "\n",
    "$$\n",
    "    i' = \\left(\\frac IN\\right)' = \\frac{I'N-IN'}{N^2}\n",
    "        = \\frac{I'}{N}\n",
    "        = \\beta \\frac{IS}{N^2} - \\gamma \\frac{I}{N}\n",
    "        = \\beta is - \\gamma i\n",
    "$$\n",
    "\n",
    "e\n",
    "\n",
    "$$\n",
    "    r' = \\left(\\frac RN\\right)' = \\frac{R'N-RN'}{N^2}\n",
    "        = \\frac{R'}{N}\n",
    "        = \\gamma \\frac IN\n",
    "        = \\gamma i\n",
    "$$\n",
    "\n",
    "Il nostro modello è ora privo di riferimenti alla numerosità della popolazione e si legge come\n",
    "\n",
    "$$\n",
    "    \\begin{cases}\n",
    "        s' = -\\beta is  \\\\\n",
    "        i' = \\beta is -\\gamma i \\\\\n",
    "        r' = \\gamma i\n",
    "    \\end{cases}\n",
    "$$\n",
    "\n",
    "Ormai sappiamo come fare per calibrare questo sistema differenziale:"
   ]
  },
  {
   "cell_type": "code",
   "execution_count": 67,
   "metadata": {},
   "outputs": [
    {
     "name": "stdout",
     "output_type": "stream",
     "text": [
      "Optimization terminated successfully.\n",
      "         Current function value: 0.062839\n",
      "         Iterations: 56\n",
      "         Function evaluations: 108\n",
      "beta ottimale = 0.08823782702462483\n",
      "gamma ottimale = 0.015124458915754365\n"
     ]
    },
    {
     "data": {
      "text/plain": [
       "<matplotlib.legend.Legend at 0x7f1a08da2550>"
      ]
     },
     "execution_count": 67,
     "metadata": {},
     "output_type": "execute_result"
    },
    {
     "data": {
      "image/png": "[encoded data removed]",
      "text/plain": [
       "<Figure size 432x288 with 1 Axes>"
      ]
     },
     "metadata": {},
     "output_type": "display_data"
    }
   ],
   "source": [
    "import matplotlib.pyplot as plt\n",
    "import numpy as np\n",
    "from scipy.integrate import odeint\n",
    "from scipy.optimize import fmin\n",
    "\n",
    "serie_N = np.array([misura[\"tamponi\"] for misura in DATA])\n",
    "N0 = serie_N[0]\n",
    "\n",
    "serie_I = np.array([misura[\"totale_attualmente_positivi\"]/misura[\"tamponi\"] for misura in DATA])\n",
    "I0 = serie_I[0]\n",
    "\n",
    "serie_R = np.array([(misura[\"dimessi_guariti\"] + misura[\"deceduti\"])/misura[\"tamponi\"] for misura in DATA])\n",
    "R0 = serie_R[0]\n",
    "\n",
    "serie_S = 1 - serie_I - serie_R\n",
    "S0 = serie_S[0]\n",
    "\n",
    "serie_SIR = np.array([[serie_S[i], serie_I[i], serie_R[i]] for i in range(len(DATA))])\n",
    "SIR0 = serie_SIR[0]\n",
    "\n",
    "t0 = 0\n",
    "t1 = len(serie_N)\n",
    "intervallo = np.linspace(t0, t1, len(serie_N))\n",
    "\n",
    "def fun_SIR(y, t, beta, gamma):\n",
    "    # y = [S(t), I(t), R(t)]\n",
    "    return [-beta*y[0]*y[1],\n",
    "            beta*y[0]*y[1]-gamma*y[1],\n",
    "            gamma*y[1] ]\n",
    "\n",
    "def modello(betagamma):\n",
    "    # Risolve il sistema di equazioni $S'=..., I'=..., R'=...$\n",
    "    y = odeint(fun_SIR, SIR0, intervallo, args=(betagamma[0],betagamma[1]))\n",
    "    return np.linalg.norm(y - serie_SIR)\n",
    "\n",
    "# Trova il valore ottimale di beta e gamma\n",
    "valori_ottimali = fmin(modello, (1, 1))\n",
    "\n",
    "print(\"beta ottimale =\", valori_ottimali[0])\n",
    "print(\"gamma ottimale =\", valori_ottimali[1])\n",
    "\n",
    "# Ora disegna la soluzione per l'alpha ottimale\n",
    "y = odeint(fun_SIR, SIR0, intervallo, args=(valori_ottimali[0],valori_ottimali[1]))\n",
    "plt.plot(intervallo, serie_I, 'ro', label=\"Dati reali per I\")\n",
    "plt.plot(intervallo, y[:,1], label=\"Modello per I\")\n",
    "plt.legend()"
   ]
  },
  {
   "cell_type": "markdown",
   "metadata": {},
   "source": [
    "Notiamo che in questo caso la nostra $\\sigma=\\beta/\\gamma$ diviene pari a circa 5.83, un valore molto alto ma non così come nel caso delle equazioni per $I$: in effetti possiamo vedere il picco di infezioni proiettando il modello a 180 giorni"
   ]
  },
  {
   "cell_type": "code",
   "execution_count": 68,
   "metadata": {},
   "outputs": [
    {
     "data": {
      "text/plain": [
       "<matplotlib.legend.Legend at 0x7f1a08d0c4e0>"
      ]
     },
     "execution_count": 68,
     "metadata": {},
     "output_type": "execute_result"
    },
    {
     "data": {
      "image/png": "[encoded data removed]",
      "text/plain": [
       "<Figure size 432x288 with 1 Axes>"
      ]
     },
     "metadata": {},
     "output_type": "display_data"
    }
   ],
   "source": [
    "intervallo = np.linspace(t0, t0 + 180)\n",
    "y = odeint(fun_SIR, SIR0, intervallo, args=(valori_ottimali[0],valori_ottimali[1]))\n",
    "plt.plot(intervallo, y[:,0], \"g\", label=\"Modello per S\")\n",
    "plt.plot(intervallo, y[:,1], \"b\", label=\"Modello per I\")\n",
    "plt.plot(intervallo, y[:,2], \"r\", label=\"Modello per R\")\n",
    "plt.legend()"
   ]
  },
  {
   "cell_type": "markdown",
   "metadata": {},
   "source": [
    "Da questi grafici vediamo chiaramente che si attende il picco delle infezioni a circa 60 giorni dall'inizio della rilevazione dei dati (se questo calcolo fosse realistico staremmo parlando di fine aprile), e con una incidenza di oltre il 50% della popolazione.\n",
    "\n",
    "Qualitativamente, l'andamento delle curve è quello tipico dei modelli **SIR** per le epidemie virali."
   ]
  },
  {
   "cell_type": "markdown",
   "metadata": {},
   "source": [
    "## Conclusioni\n",
    "\n",
    "Non è lo scopo di questa breve nota quello di proporre un modello predittivo per le epidemie, né tantomeno predire alcunché riguardo l'attuale Covid19.\n",
    "\n",
    "Piuttosto lo scopo è stato mostrare:\n",
    "\n",
    "1. come i modelli matematici siano di complessità incrementale, e crescente e come operino delle ipotesi comunque semplicistiche sulla natura delle cose;\n",
    "2. che il modello senza i dati o i dati senza modello non dicono nulla;\n",
    "3. che i modelli hanno dei limiti di applicabilità e che nell'applicare il modello stesso si operano delle scelte, dettate dalla semplicità, dagli strumenti a disposizione, etc.;\n",
    "4. che alla fine oggi è molto facile programmare un modello, rappresentare i risultati in forma grafica e giocare con i parametri dai quali il modello dipende.\n",
    "\n",
    "In particolare, molti lettori di queste note avranno immediatamente visto un migliore uso del modello che ho proposto, o una sua modifica per renderlo più efficiente, o reperire più dati per calibrarlo meglio, etc. etc.\n",
    "\n",
    "Ma se il messaggio che non basta esporre una tabella o un grafico per stabilire alcunché su un fenomeno complesso come une epidemia è passato, lo scopo di questa breve nota (oltre al divertimento nello scriverla) sarà stato raggiunto."
   ]
  },
  {
   "cell_type": "markdown",
   "metadata": {},
   "source": [
    "## Per saperne di più",
    "\n",
    "Per chi fosse interessato ad approfondire queste tematiche, come primo riferimento in italiano per la parte teorica di questo affascinante argomento suggerisco l'ultimo capitolo del manuale di Mascia-Montefusco *Un invito alla biomatematica*, LaDotta, 2015.\n",
    "\n",
    "Un testo semplice e accessibile che offre una introduzione alla matematica delle malattie infettive ma anche una panoramica dei metodi di stima parametrica necessari per \"incrociarli\" con i dati reali è il recente libro di Li *An Introduction to Mathematical Modeling of Infectious Diseases* Springer, 2018.\n",
    "\n",
    "A livello più avanzato trovo ancora illuminante e assolutamente consigliabile la trattazione matematica di Hethcote *The Mathematics of Infectious Diseases* SIAM Review, 42 (2000), 599-653.\n"
   ]
  }
 ],
 "metadata": {
  "kernelspec": {
   "display_name": "Python 3",
   "language": "python",
   "name": "python3"
  },
  "language_info": {
   "codemirror_mode": {
    "name": "ipython",
    "version": 3
   },
   "file_extension": ".py",
   "mimetype": "text/x-python",
   "name": "python",
   "nbconvert_exporter": "python",
   "pygments_lexer": "ipython3",
   "version": "3.6.9"
  }
 },
 "nbformat": 4,
 "nbformat_minor": 4
}
