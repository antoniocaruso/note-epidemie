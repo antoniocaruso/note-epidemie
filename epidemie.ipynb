{
 "cells": [
  {
   "cell_type": "markdown",
   "metadata": {},
   "source": [
    "# Introduzione ai modelli matematici di diffusione epidemiologica\n",
    "### Paolo Caressa, PhD\n",
    "#### Ver. 1.0 marzo 2020\n",
    "\n",
    "### 1. Premessa\n",
    "\n",
    "Lo scopo di questi appunti è di fornire una rapida introduzione ai modelli deterministici della diffusione epidemica: si tratta delle nozioni più elementari, che presuppongono soltanto una conoscenza di base del calcolo differenziale, diciamo una analisi 1.\n",
    "\n",
    "Spero che queste note diano una seppur fugace impressione dell'importanza dei metodi elementari dei sistemi dinamici, che veramente richiedono quattro derivate per essere espressi, e consentano di trovare un interesse scientifico nell'attuale congiuntura epidemica di cui tanto si (s)parla.\n",
    "\n",
    "Come primo riferimento in italiano per approfondire la parte teorica di questo affascinante argomento suggerisco il manuale di Mascia-Montefusco \"*Un invito alla biomatematica*\", LaDotta, 2015.\n"
   ]
  },
  {
   "cell_type": "markdown",
   "metadata": {},
   "source": [
    "### 2. Il modello più semplice: SI\n",
    "\n",
    "Consideriamo il diffondersi di un virus in una popolazione: vogliamo studiare la diffusione dell'epidemia in una popolazione, e per farlo suddividiamo la popolazione in \"compartimenti\".\n",
    "\n",
    "Nel modello più semplice abbiamo due compartimenti:\n",
    "\n",
    "- $S$ (che sta per *Suscettibili*) cioè il gruppo di persone che non hanno la malattia ma possono contrarla.\n",
    "- $I$ (che sta per *Infetti*) cioè il gruppo di persone che hanno contratto la malattia.\n",
    "\n",
    "Quel che vogliamo capire è il passaggio $S\\to I$, che comporta capire quanti suscettibili divengono infetti, e a che velocità.\n",
    "\n",
    "Supponendo che il numero totale di persone nella popolazione sia $N$, abbiamo che $S+I=N$, quel che vogliamo determinare è l'incremento $\\Delta I(t)$ di persone che contraggono l'infezione fra l'istante $t$ e l'istante $t+\\Delta t$. L'ipotesi che facciamo è che questo incremento soddisfi la relazione\n",
    "\n",
    "$$\n",
    "    \\Delta I(t) = I(t+\\Delta t) - I(t) = \\beta \\frac{I(t)S(t)}{N}\\,\\Delta t\n",
    "$$\n",
    "\n",
    "dove $\\beta$ è una costante da determinarsi. Supponendo che le nostre variabili siano continue (anche se in realtà sono discrete in quanto rappresentano la numerosità di una popolazione), siamo quindi tentati di dedurne che\n",
    "\n",
    "$$\n",
    "    \\frac{\\Delta I(t)}{\\Delta t} = \\beta \\frac{I(t)S(t)}{N}\n",
    "$$\n",
    "\n",
    "e quindi, passando al limite per $\\Delta t\\to 0$, troviamo la relazione differenziale\n",
    "\n",
    "$$\n",
    "    \\frac{dI}{dt} = \\beta \\frac{IS}{N}\n",
    "$$\n",
    "\n",
    "Facciamo l'ipotesi che $N$ sia costante nel tempo, da cui $S(t)=N-I(t)$, che consente di scrivere anche l'equazione per la dinamica di $S$:\n",
    "\n",
    "$$\n",
    "    \\frac{dS}{dt} = - \\frac{dI}{dt} = -\\frac\\beta N IS\n",
    "$$\n",
    "\n",
    "A ben vedere queste due equazioni sono equivalenti all'unica equazione\n",
    "\n",
    "$$\n",
    "    \\frac{dI}{dt} = \\beta \\frac{I(N-I)}{N}\n",
    "$$\n",
    "\n",
    "(Spesso si scrive $I'(t)$ per indicare la derivata $\\frac{dI}{dt}$ di una funzione $I(t)$.)\n"
   ]
  },
  {
   "cell_type": "markdown",
   "metadata": {},
   "source": [
    "#### Integrazione esatta del modello SI\n",
    "\n",
    "Poiché la soluzione di questa equazione differenziale si può scrivere in modo esatto, facciamolo (non capita quasi mai!): questa parte è puramente matematica ma comunque esorto tutti a provare a leggerla in quanto ci consentirà di guardare \"in faccia\" la soluzione del nostro modello, cioè la funzione $I(t)$ che indica l'andamento degli infettati.\n",
    "\n",
    "L'equazione che abbiamo ricavato, $I'=\\beta I(N-I)/N$, ha la caratteristica che le variabili che vi figurano sono separabili, per cui possiamo portare tutti termini che contengono la $I$ da una parte lasciando quelli che contengono la $t$ dall'altra, integrando poi ambo i membri come (scrivo $I_0=I(t_0)$ e $I_1=I(t_1)$)\n",
    "\n",
    "$$\n",
    "    \\int_{I_0}^{I_1} \\frac{N}{I(N-I)}dI = \\beta \\int_{t_0}^{t_1} dt = \\beta(t_1 - t_0)\n",
    "$$\n",
    "\n",
    "L'integrazione del primo membro di questa equazione è facile (uso la sostituzione $J=N-I$ da cui $dJ=-dI$):\n",
    "\n",
    "\\begin{align*}\n",
    "    \\int_{I_0}^{I_1} \\frac{N}{I(N-I)}dI\n",
    "        &= \\int_{I_0}^{I_1} \\frac{dI}{I} + \\int_{I_0}^{I_1} \\frac{dI}{N-I}\n",
    "            = \\int_{I_0}^{I_1} \\frac{dI}{I} - \\int_{N-I_0}^{N-I_1} \\frac{dJ}{J}   \\\\\n",
    "        &= \\log\\frac{I_1}{I_0} - \\log\\frac{N-I_1}{N-I_0}\n",
    "            = \\log\\frac{I_1(N-I_0)}{I_0(N-I_1)}\n",
    "\\end{align*}\n",
    "\n",
    "Pertanto abbiamo\n",
    "\n",
    "$$\n",
    "    e^{\\beta(t_1-t_0)} = \\frac{I_1(N-I_0)}{I_0(N-I_1)}\n",
    "$$\n",
    "\n",
    "da cui segue $I_0(N-I_1)e^{\\beta(t_1-t_0)} = I_1(N-I_0)$, quindi $I_0Ne^{\\beta(t_1-t_0)}=I_1(N-I_0+I_0e^{\\beta(t_1-t_0)})$, il che ci consente di scrivere esplicitamente $I_1$:\n",
    "\n",
    "$$\n",
    "    I_1 = \\frac{I_0Ne^{\\beta(t_1-t_0)}}{N-I_0+I_0e^{\\beta(t_1-t_0)}}\n",
    "        = \\frac{I_0N}{S_0e^{-\\beta(t_1-t_0)}+I_0}\n",
    "$$\n",
    "\n",
    "rammentando che $S=I-N$.\n",
    "\n",
    "Abbiamo quindi trovato una espressione esplicita per l'andamento degli infetti per ogni $t$,\n",
    "\n",
    "$$\n",
    "    I(t) = \\frac{I_0N}{(N-I_0)e^{-\\beta(t-t_0)}+I_0}\n",
    "$$\n",
    "\n",
    "che dipende da una serie di costanti: $I_0$ è il valore iniziale di $I$ mentre $\\beta$ è una costante che dipende dalla malattia.\n",
    "\n",
    "Proviamo a graficare questa funzione per alcuni valori di $\\beta$, supponendo che la condizione iniziale, su una popolazione di $N=1000$ sia di $I_0=10$ infetti. Ecco un programmino Python che svolge questo compito."
   ]
  },
  {
   "cell_type": "code",
   "execution_count": 75,
   "metadata": {},
   "outputs": [
    {
     "data": {
      "image/png": "[encoded data removed]",
      "text/plain": [
       "<Figure size 432x288 with 4 Axes>"
      ]
     },
     "metadata": {},
     "output_type": "display_data"
    }
   ],
   "source": [
    "import matplotlib\n",
    "matplotlib.rcParams['text.usetex'] = True\n",
    "import matplotlib.pyplot as plt\n",
    "import numpy as np\n",
    "N = 1000\n",
    "t0 = 0\n",
    "t1 = 10\n",
    "I0 = 10\n",
    "t = np.linspace(t0, t1, 100)\n",
    "\n",
    "def grafico(handle, beta, colore):\n",
    "    y = [I0*N/((N-I0)*np.exp(-beta*(tt-t0))+I0) for tt in t]\n",
    "    handle.plot(t, y, colore, label=r'$\\beta$=' + str(beta))\n",
    "    handle.grid()\n",
    "    handle.legend(loc='best')\n",
    "\n",
    "fig, axes = plt.subplots(2, 2, sharex='all', sharey='all')\n",
    "\n",
    "grafico(axes[0,0], 0.5, 'b')\n",
    "grafico(axes[0,1], 1, 'b')\n",
    "grafico(axes[1,0], 2, 'b')\n",
    "grafico(axes[1,1], 10, 'b')\n",
    "\n"
   ]
  },
  {
   "cell_type": "markdown",
   "metadata": {},
   "source": [
    "Come si vede, in ogni caso il numero degli infetti tende a crescere fino a saturare tutta la popolazione: il parametro $\\beta$ agisce come un tasso di crescita, nel senso che maggiore è il suo valore e più in fretta la popolazione degli infetti tende a saturare l'intera popolazione.\n",
    "\n",
    "Potete divertirvi a variare la condizione iniziale e $\\beta$, ma alla fine il risultato sarà sempre quello."
   ]
  },
  {
   "cell_type": "markdown",
   "metadata": {},
   "source": [
    "#### Integrazione numerica del modello SI\n",
    "\n",
    "Il calcolo che abbiamo fatto nell'integrazione esatta è semplice e divertente: purtroppo so che qualcuno potrebbe opinare su questi giudizi, e anche in vista di esempi più complicati, mi sento quindi obbligato a fornire anche una integrazione dell'equazione differenziale con metodi numerici, cioè non basandoci sulle nostre magie algebriche simboliche ma lasciando fare al computer quello per cui è fatto, cioè i conti approssimati della soluzione del modello.\n",
    "\n",
    "Si tratta di usare il solutore di equazioni differenziali ordinarie di Python e dargli in pasto direttamente la funzione che figura a secondo membro nell'equazione differenziale: ricordiamo che il modello SIS è\n",
    "\n",
    "$$\n",
    "    \\frac{dI}{dt} = \\beta \\frac{I(N-I)}{N}\n",
    "$$\n",
    "\n",
    "Quindi è del tipo $y' = f(t,y)$ (nel nostro caso $y=I$). Ecco un programmino che usa questo metodo, il quale non ci fornisce esplicitamente la funzione $I$ che cerchiamo, ma ce la calcola nei punti desiderati, che in fondo è tutto quel che ci serve.\n"
   ]
  },
  {
   "cell_type": "code",
   "execution_count": 76,
   "metadata": {},
   "outputs": [
    {
     "data": {
      "image/png": "[encoded data removed]",
      "text/plain": [
       "<Figure size 432x288 with 4 Axes>"
      ]
     },
     "metadata": {},
     "output_type": "display_data"
    }
   ],
   "source": [
    "import matplotlib.pyplot as plt\n",
    "import numpy as np\n",
    "from scipy.integrate import odeint\n",
    "\n",
    "N = 1000\n",
    "t0 = 0\n",
    "t1 = 10\n",
    "I0 = 10\n",
    "t = np.linspace(t0, t1, 100)\n",
    "\n",
    "def f(y,t, beta, N):\n",
    "    return beta * y *(N - y)/N\n",
    "\n",
    "def grafico(handle, beta, colore):\n",
    "    y = odeint(f, I0, t, args=(beta,N))\n",
    "    handle.plot(t, y[:,0], colore, label=r'$\\beta$=' + str(beta))\n",
    "    handle.grid()\n",
    "    handle.legend(loc='best')\n",
    "\n",
    "fig, axes = plt.subplots(2, 2, sharex='all', sharey='all')\n",
    "\n",
    "grafico(axes[0,0], 0.5, 'b')\n",
    "grafico(axes[0,1], 1, 'b')\n",
    "grafico(axes[1,0], 2, 'b')\n",
    "grafico(axes[1,1], 4, 'b')\n"
   ]
  },
  {
   "cell_type": "markdown",
   "metadata": {},
   "source": [
    "Non è sorprendente che sia venuto lo stesso risultato precedente: l'integrazione numerica non è esatta ma nella pratica del calcolo scientifico fornisce gli stessi risultati di quella esatta (nella rappresentazione dei numeri all'interno dei computer non c'è nulla di realmente esatto...)."
   ]
  },
  {
   "cell_type": "markdown",
   "metadata": {},
   "source": [
    "### Il modello SIS\n",
    "\n",
    "I risultati del modello SI non sembrano molto incoraggianti... ma è intuitivo attendersi che alla fine tutti si ammaleranno prima o poi, dato che la dinamica del modello prevede solo la possibilità di passare dal compartimento $S$ al compartimento $I$.\n",
    "\n",
    "Tuttavia potrebbe darsi che un malato guarisca (anzi lo speriamo vivamente), col che tornerebbe nel compartimento $S$: dunque un modello un pochino più sofisticato è dato dallo schema\n",
    "\n",
    "$$\n",
    "    S \\to I \\to S\n",
    "$$\n",
    "\n",
    "Naturalmente le equazioni si complicano per tenere conto anche della transizione inversa, da infetto a suscettibile: in particolare, se nel modello SI l'equazione che descrive il tasso con cui cresce il comparimento degli infetti è\n",
    "\n",
    "$$\n",
    "    I'(t) = \\beta \\frac{I(N-I)}{N}\n",
    "$$\n",
    "\n",
    "nel modello SIS questo tasso di crescita viene frenato da una certa quota di infetti che tornano suscettibili, e che supponiamo proporzionali agli infetti:\n",
    "\n",
    "$$\n",
    "    I'(t) = \\beta \\frac{I(N-I)}{N} - \\gamma I\n",
    "$$\n",
    "\n",
    "Dal punto di vista del compartimento dei suscettibili, l'equazione precedente diviene\n",
    "\n",
    "$$\n",
    "    S'(t) = -\\beta\\frac{S(N-S)}{N} +\\gamma(N-S)\n",
    "$$\n",
    "\n",
    "Notiamo che, sommando queste equazioni, troviamo $I'+S' = 0$, cioè che $N=I+S$ è costante, cosa che supponevamo nel modello SI.\n",
    "\n",
    "L'equazione per la dinamica della $I$ è ancora a variabili separabili e se qualcuno vuole divertirsi a dedurla come abbiamo fatto in precedenza gli dò il suggerimento di distinguere il caso $\\beta=\\gamma$ dal caso $\\beta\\neq\\gamma$ che danno luogo ad equazioni diverse.\n",
    "\n",
    "Qui cedo alla pigrizia e faccio fare il conto al computer: nei seguenti programmini Python mostro le curve relative alla soluzione $I(t)$ del modello SIS per diversi valori e combinazioni di $\\beta$ e $\\gamma$, pensando sempre a una popolazione di $N=1000$ persone con un numero iniziale di infetti $I_0=100$ (naturalmente cambiando i dati del programma si possono sperimentare le curve per altri valori, il motivo principale per cui queste note sono redatte in un foglio Jupyter è proprio dare a chi le legge la possibilità di giocare con i modelli).\n",
    "\n",
    "Nei grafici indichiamo i valori del rapporto\n",
    "\n",
    "$$\n",
    "    \\sigma = \\frac{\\beta}{\\gamma}\n",
    "$$\n"
   ]
  },
  {
   "cell_type": "code",
   "execution_count": 88,
   "metadata": {},
   "outputs": [
    {
     "data": {
      "image/png": "[encoded data removed]",
      "text/plain": [
       "<Figure size 432x288 with 4 Axes>"
      ]
     },
     "metadata": {},
     "output_type": "display_data"
    }
   ],
   "source": [
    "import matplotlib.pyplot as plt\n",
    "import numpy as np\n",
    "from scipy.integrate import odeint\n",
    "\n",
    "N = 1000\n",
    "t0 = 0\n",
    "t1 = 10\n",
    "I0 = 100\n",
    "t = np.linspace(t0, t1, 100)\n",
    "\n",
    "def f(y,t, beta, gamma, N):\n",
    "    return beta * y *(N - y)/N - gamma * y\n",
    "\n",
    "def grafico(handle, beta, gamma, colore):\n",
    "    y = odeint(f, I0, t, args=(beta,gamma,N))\n",
    "    handle.plot(t, y[:,0], colore, label=r'$\\sigma$=' + str(beta/gamma))\n",
    "    handle.grid()\n",
    "    handle.legend(loc='best')\n",
    "\n",
    "fig, axes = plt.subplots(2, 2, sharex='all', sharey='all')\n",
    "\n",
    "grafico(axes[0,0], 1, 0.1, 'b')\n",
    "grafico(axes[0,1], 1, 0.5, 'b')\n",
    "grafico(axes[1,0], 1, 1, 'b')\n",
    "grafico(axes[1,1], 1, 2, 'b')\n"
   ]
  },
  {
   "cell_type": "markdown",
   "metadata": {},
   "source": [
    "Come si vede il numero degli infetti non tende necessariamente al numero totale della popolazione: in particolare, se $\\sigma\\leq 1$ il numero degli infetti decresce sempre di più, e in un tempo sufficientemente lungo si azzera.\n",
    "\n",
    "Invece, se $\\sigma>1$ il numero degli infetti cresce con un andamento simile a quello del modello SIS ma con l'importante differenza di non tendere a saturare tutta la popolazione, ma di assestarsi su un numero massimo di infetti che è percentualmente dato da $I_E = (\\sigma-1)/\\sigma$, e che si chiama *equilibrio endemico*: una volta raggiunto l'equilibrio endemico, il compartimento degli infetti si stabilizza e l'epidemia diviene una *endemia*, durevole nel tempo.\n",
    "\n",
    "Per esempio, se $\\sigma=2$ allora l'equilibrio endemico è raggiunto per un numero di infetti pari a $N\\times I_E=N/2$. E infatti si vede dal grafico corrispondente che la curva raggiunge questo punto.\n",
    "\n",
    "Per avere una idea della *asintoticità* di questo valore limite, ripetiamo il calcolo allungando smisuratamente i tempi:"
   ]
  },
  {
   "cell_type": "code",
   "execution_count": 92,
   "metadata": {},
   "outputs": [
    {
     "data": {
      "image/png": "[encoded data removed]",
      "text/plain": [
       "<Figure size 432x288 with 1 Axes>"
      ]
     },
     "metadata": {},
     "output_type": "display_data"
    }
   ],
   "source": [
    "t0 = 0\n",
    "t1 = 100\n",
    "t = np.linspace(t0, t1, 1000)\n",
    "grafico(plt, 1, 0.5, 'b')"
   ]
  },
  {
   "cell_type": "markdown",
   "metadata": {},
   "source": [
    "Vediamo bene come l'equilibrio endemico costituisca una soglia che non è possibile superare."
   ]
  },
  {
   "cell_type": "markdown",
   "metadata": {},
   "source": [
    "### Il modello SIR\n",
    "\n",
    "Il modello SIS ha un che di ragionevole, ma anche di rassegnatamente drammatico: l'epidemia diviene una endemia. In questo caso tuttavia, ma in generale questo accade per tutte le epidemie, il numero degli infetti diminuisce non solo perché alcuni di loro tornano nei suscettibili, ma anche per altri motivi. Gli infetti possono guarire e sviluppare una immunità, dunque non essere più suscettibili di contrarre la malattia, o morire, o essere isolati.\n",
    "\n",
    "Viene quindi spontaneo modificare il nostro modello introducendo un nuovo compartimento, $R$ (che sta per *rimossi*) e contiene gli infetti che non sono più tali ma nemmeno più suscettibili. Lo schema del modello contempla che si possa passare nel compartimento $R$ solo se si proviene dal compartimento $I$:\n",
    "\n",
    "$$\n",
    "    S \\to I \\to R\n",
    "$$\n",
    "\n"
   ]
  },
  {
   "cell_type": "code",
   "execution_count": null,
   "metadata": {},
   "outputs": [],
   "source": []
  }
 ],
 "metadata": {
  "kernelspec": {
   "display_name": "Python 3",
   "language": "python",
   "name": "python3"
  },
  "language_info": {
   "codemirror_mode": {
    "name": "ipython",
    "version": 3
   },
   "file_extension": ".py",
   "mimetype": "text/x-python",
   "name": "python",
   "nbconvert_exporter": "python",
   "pygments_lexer": "ipython3",
   "version": "3.6.9"
  }
 },
 "nbformat": 4,
 "nbformat_minor": 2
}
