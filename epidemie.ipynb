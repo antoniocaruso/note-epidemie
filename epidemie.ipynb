{
 "cells": [
  {
   "cell_type": "markdown",
   "metadata": {},
   "source": [
    "# Introduzione ai modelli matematici di diffusione epidemiologica\n",
    "### Paolo Caressa, PhD\n",
    "#### Ver. 1.0 marzo 2020\n",
    "\n",
    "### 1. Premessa\n",
    "\n",
    "Lo scopo di questi appunti è di fornire una rapida introduzione ai modelli deterministici della diffusione epidemica: si tratta delle nozioni più elementari, che presuppongono soltanto una conoscenza di base del calcolo differenziale, diciamo una analisi 1.\n",
    "\n",
    "Spero che queste note diano una seppur fugace impressione dell'importanza dei metodi elementari dei sistemi dinamici, che veramente richiedono quattro derivate per essere espressi, e consentano di trovare un interesse scientifico nell'attuale congiuntura epidemica di cui tanto si (s)parla.\n",
    "\n",
    "Come primo riferimento per approfondire la parte teorica di questo affascinante argomento suggerisco il manuale di Mascia-Montefusco \"Un invito alla biomatematica\", LaDotta, 2015.\n"
   ]
  },
  {
   "cell_type": "markdown",
   "metadata": {},
   "source": [
    "### 2. Il problema e la sua modellazione\n",
    "\n",
    "Consideriamo il diffondersi di un virus in una popolazione: vogliamo studiare la diffusione dell'epidemia, "
   ]
  },
  {
   "cell_type": "code",
   "execution_count": null,
   "metadata": {},
   "outputs": [],
   "source": []
  },
  {
   "cell_type": "code",
   "execution_count": null,
   "metadata": {},
   "outputs": [],
   "source": []
  },
  {
   "cell_type": "code",
   "execution_count": null,
   "metadata": {},
   "outputs": [],
   "source": []
  }
 ],
 "metadata": {
  "kernelspec": {
   "display_name": "Python 3",
   "language": "python",
   "name": "python3"
  },
  "language_info": {
   "codemirror_mode": {
    "name": "ipython",
    "version": 3
   },
   "file_extension": ".py",
   "mimetype": "text/x-python",
   "name": "python",
   "nbconvert_exporter": "python",
   "pygments_lexer": "ipython3",
   "version": "3.8.0a1"
  }
 },
 "nbformat": 4,
 "nbformat_minor": 2
}
